{
 "cells": [
  {
   "cell_type": "code",
   "execution_count": 28,
   "metadata": {},
   "outputs": [],
   "source": [
    "import matplotlib.pyplot as plt\n",
    "import sklearn.manifold\n",
    "import sklearn.datasets \n",
    "import numpy as np\n",
    "import pandas as pd\n",
    "import seaborn as sns"
   ]
  },
  {
   "cell_type": "code",
   "execution_count": 37,
   "metadata": {},
   "outputs": [],
   "source": [
    "#data = pd.read_csv(\"piwo.csv\")\n",
    "iris = sklearn.datasets.load_iris(as_frame=True, return_X_y=False)\n",
    "data, _ = sklearn.datasets.load_iris(as_frame=True, return_X_y=True)\n",
    "data[\"n_spec\"] = iris.target\n",
    "# iris.target_names\n",
    "# data[][\"species\"] = \n",
    "#klasyczne\n",
    "#mds = sklearn.manifold.MDS(n_components=2,metric=True)\n",
    "# data_mdsmetric = mds.fit_transform(data)\n",
    "# data\n",
    "#sns.lmplot(data_mdsmetric)"
   ]
  }
 ],
 "metadata": {
  "kernelspec": {
   "display_name": "base",
   "language": "python",
   "name": "python3"
  },
  "language_info": {
   "codemirror_mode": {
    "name": "ipython",
    "version": 3
   },
   "file_extension": ".py",
   "mimetype": "text/x-python",
   "name": "python",
   "nbconvert_exporter": "python",
   "pygments_lexer": "ipython3",
   "version": "3.11.5"
  }
 },
 "nbformat": 4,
 "nbformat_minor": 2
}
