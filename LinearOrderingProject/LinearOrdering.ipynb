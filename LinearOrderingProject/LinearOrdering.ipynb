{
 "cells": [
  {
   "cell_type": "code",
   "execution_count": 67,
   "metadata": {},
   "outputs": [],
   "source": [
    "import pandas as pd\n",
    "import numpy as np\n",
    "import warnings\n",
    "warnings.filterwarnings(\"ignore\")\n"
   ]
  },
  {
   "cell_type": "code",
   "execution_count": 76,
   "metadata": {},
   "outputs": [],
   "source": [
    "#wczytanie danych\n",
    "data = pd.read_excel(\"dane_do_wczytania.xlsx\")\n",
    "#ustawiamy kolumnę \"wojewodztwo\" jako index\n",
    "#inplace powoduje że modyfikujemy DataFrame, a nie tworzymy nowy\n",
    "data.set_index(\"wojewodztwo\",inplace=True)\n",
    "#usuwamy nazwę indexu\n",
    "data.index.names = [None]\n",
    "#data"
   ]
  },
  {
   "cell_type": "code",
   "execution_count": 77,
   "metadata": {},
   "outputs": [
    {
     "name": "stdout",
     "output_type": "stream",
     "text": [
      "Index(['lekarze [liczba/tys ludnosci]', 'pielegniarki [liczba/tys ludnosci]',\n",
      "       'apteki [liczba/km2]',\n",
      "       'zgony ogolem na tys urodzen zywych [liczba/tys urodzen zywych]',\n",
      "       'zespoly ratownictwa medycznego [liczba/tys ludnosci]',\n",
      "       'liczba ludnosci na lozko w szpitalach ogolnych [osoby/lozko]',\n",
      "       'absolwenci uczelni medycznych [osoba]',\n",
      "       'organizacje non profit ochrona zdrowia [%]'],\n",
      "      dtype='object')\n"
     ]
    }
   ],
   "source": [
    "#zamiana zmiennych na stymulanty\n",
    "print(data.columns)\n",
    "#liczba lekarzy - stymulanta\n",
    "#liczba pielegniarek - stymulanta\n",
    "#liczba aptek - stymulanta\n",
    "#zgony ogolem - destymulanta\n",
    "#zespoly ratownictwa medycznego - stymulanta\n",
    "#liczba ludnosci na lozko szpitalne - destymulanta\n",
    "#absolwenci - stymulanta\n",
    "#organizacje non profit - nominanta, 8%"
   ]
  },
  {
   "cell_type": "code",
   "execution_count": 78,
   "metadata": {},
   "outputs": [],
   "source": [
    "data[\"liczba ludnosci na lozko w szpitalach ogolnych [osoby/lozko]\"] = data[\"liczba ludnosci na lozko w szpitalach ogolnych [osoby/lozko]\"] *-1\n",
    "data[\"zgony ogolem na tys urodzen zywych [liczba/tys urodzen zywych]\"] = data[\"zgony ogolem na tys urodzen zywych [liczba/tys urodzen zywych]\"] * -1\n",
    "nominanta = 9\n",
    "for i in range(len(data[\"organizacje non profit ochrona zdrowia [%]\"])):\n",
    "    if data[\"organizacje non profit ochrona zdrowia [%]\"][i]==nominanta :\n",
    "        data[\"organizacje non profit ochrona zdrowia [%]\"][i]=1\n",
    "    elif data[\"organizacje non profit ochrona zdrowia [%]\"][i]>nominanta :\n",
    "        data[\"organizacje non profit ochrona zdrowia [%]\"][i] = 1/(data[\"organizacje non profit ochrona zdrowia [%]\"][i]-nominanta+1)\n",
    "    else:\n",
    "        data[\"organizacje non profit ochrona zdrowia [%]\"][i] = -1/(data[\"organizacje non profit ochrona zdrowia [%]\"][i]-nominanta-1)\n"
   ]
  },
  {
   "cell_type": "code",
   "execution_count": 79,
   "metadata": {},
   "outputs": [],
   "source": [
    "#standaryzacja danych I\n",
    "data_std = data.copy()\n",
    "col_names = data_std.columns\n",
    "for column in col_names:\n",
    "    mean = np.mean(data_std[column])\n",
    "    sd = np.std(data_std[column])\n",
    "    for i in range(len(data_std[column])):\n",
    "        data_std[column][i] = (data_std[column][i] - mean)/sd"
   ]
  },
  {
   "cell_type": "code",
   "execution_count": 80,
   "metadata": {},
   "outputs": [],
   "source": [
    "#standaryzacja danych II (dla TOPSIS)\n",
    "data_std_TOPSIS = data.copy()\n",
    "col_names = data_std_TOPSIS.columns\n",
    "for column in col_names:\n",
    "    suma = np.sum(data_std_TOPSIS[column]**2)\n",
    "    for i in range(len(data_std_TOPSIS[column])):\n",
    "        data_std_TOPSIS[column][i] = data_std_TOPSIS[column][i]/np.sqrt(suma)"
   ]
  }
 ],
 "metadata": {
  "kernelspec": {
   "display_name": "base",
   "language": "python",
   "name": "python3"
  },
  "language_info": {
   "codemirror_mode": {
    "name": "ipython",
    "version": 3
   },
   "file_extension": ".py",
   "mimetype": "text/x-python",
   "name": "python",
   "nbconvert_exporter": "python",
   "pygments_lexer": "ipython3",
   "version": "3.11.5"
  }
 },
 "nbformat": 4,
 "nbformat_minor": 2
}
