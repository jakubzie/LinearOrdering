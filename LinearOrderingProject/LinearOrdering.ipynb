{
 "cells": [
  {
   "cell_type": "code",
   "execution_count": 67,
   "metadata": {},
   "outputs": [],
   "source": [
    "import pandas as pd\n",
    "import numpy as np\n",
    "import warnings\n",
    "warnings.filterwarnings(\"ignore\")\n"
   ]
  },
  {
   "cell_type": "code",
   "execution_count": 76,
   "metadata": {},
   "outputs": [],
   "source": [
    "#wczytanie danych\n",
    "data = pd.read_excel(\"dane_do_wczytania.xlsx\")\n",
    "#ustawiamy kolumnę \"wojewodztwo\" jako index\n",
    "#inplace powoduje że modyfikujemy DataFrame, a nie tworzymy nowy\n",
    "data.set_index(\"wojewodztwo\",inplace=True)\n",
    "#usuwamy nazwę indexu\n",
    "data.index.names = [None]\n",
    "#data"
   ]
  },
  {
   "cell_type": "code",
   "execution_count": 77,
   "metadata": {},
   "outputs": [
    {
     "name": "stdout",
     "output_type": "stream",
     "text": [
      "Index(['lekarze [liczba/tys ludnosci]', 'pielegniarki [liczba/tys ludnosci]',\n",
      "       'apteki [liczba/km2]',\n",
      "       'zgony ogolem na tys urodzen zywych [liczba/tys urodzen zywych]',\n",
      "       'zespoly ratownictwa medycznego [liczba/tys ludnosci]',\n",
      "       'liczba ludnosci na lozko w szpitalach ogolnych [osoby/lozko]',\n",
      "       'absolwenci uczelni medycznych [osoba]',\n",
      "       'organizacje non profit ochrona zdrowia [%]'],\n",
      "      dtype='object')\n"
     ]
    }
   ],
   "source": [
    "#zamiana zmiennych na stymulanty\n",
    "print(data.columns)\n",
    "#liczba lekarzy - stymulanta\n",
    "#liczba pielegniarek - stymulanta\n",
    "#liczba aptek - stymulanta\n",
    "#zgony ogolem - destymulanta\n",
    "#zespoly ratownictwa medycznego - stymulanta\n",
    "#liczba ludnosci na lozko szpitalne - destymulanta\n",
    "#absolwenci - stymulanta\n",
    "#organizacje non profit - nominanta, 8%"
   ]
  },
  {
   "cell_type": "code",
   "execution_count": 78,
   "metadata": {},
   "outputs": [],
   "source": [
    "data[\"liczba ludnosci na lozko w szpitalach ogolnych [osoby/lozko]\"] = data[\"liczba ludnosci na lozko w szpitalach ogolnych [osoby/lozko]\"] *-1\n",
    "data[\"zgony ogolem na tys urodzen zywych [liczba/tys urodzen zywych]\"] = data[\"zgony ogolem na tys urodzen zywych [liczba/tys urodzen zywych]\"] * -1\n",
    "nominanta = 9\n",
    "for i in range(len(data[\"organizacje non profit ochrona zdrowia [%]\"])):\n",
    "    if data[\"organizacje non profit ochrona zdrowia [%]\"][i]==nominanta :\n",
    "        data[\"organizacje non profit ochrona zdrowia [%]\"][i]=1\n",
    "    elif data[\"organizacje non profit ochrona zdrowia [%]\"][i]>nominanta :\n",
    "        data[\"organizacje non profit ochrona zdrowia [%]\"][i] = 1/(data[\"organizacje non profit ochrona zdrowia [%]\"][i]-nominanta+1)\n",
    "    else:\n",
    "        data[\"organizacje non profit ochrona zdrowia [%]\"][i] = -1/(data[\"organizacje non profit ochrona zdrowia [%]\"][i]-nominanta-1)\n"
   ]
  },
  {
   "cell_type": "code",
   "execution_count": 174,
   "metadata": {},
   "outputs": [],
   "source": [
    "#standaryzacja danych I\n",
    "data_std = data.copy()\n",
    "col_names = data_std.columns\n",
    "for column in col_names:\n",
    "    mean = np.mean(data_std[column])\n",
    "    sd = np.std(data_std[column])\n",
    "    for i in range(len(data_std[column])):\n",
    "        data_std[column][i] = (data_std[column][i] - mean)/sd"
   ]
  },
  {
   "cell_type": "code",
   "execution_count": 80,
   "metadata": {},
   "outputs": [],
   "source": [
    "#standaryzacja danych II (dla TOPSIS)\n",
    "data_std_TOPSIS = data.copy()\n",
    "col_names = data_std_TOPSIS.columns\n",
    "for column in col_names:\n",
    "    suma = np.sum(data_std_TOPSIS[column]**2)\n",
    "    for i in range(len(data_std_TOPSIS[column])):\n",
    "        data_std_TOPSIS[column][i] = data_std_TOPSIS[column][i]/np.sqrt(suma)"
   ]
  },
  {
   "cell_type": "code",
   "execution_count": 175,
   "metadata": {},
   "outputs": [],
   "source": [
    "#metoda standaryzowanych sum\n",
    "\n",
    "#przypisanie wag\n",
    "weights = pd.DataFrame({\"Name\":col_names, \"Weights\":[0.25,0.1,0.1,0.2,0.075,0.075,0.15,0.05,]})\n",
    "weights = weights.transpose()\n",
    "weights.rename(columns=weights.iloc[0],inplace=True)\n",
    "weights.drop(weights.index[0],inplace=True)\n",
    "#np.sum(weights[\"Weights\"])\n",
    "\n",
    "#miara syntetyczna\n",
    "S1 = np.empty(len(data_std.index))\n",
    "for i in range(len(data_std.index)):\n",
    "    suma_czesciowa = 0\n",
    "    for column in data_std.columns:\n",
    "        suma_czesciowa += data_std[column][i]*weights[column][0]\n",
    "    S1[i] = suma_czesciowa"
   ]
  },
  {
   "cell_type": "code",
   "execution_count": 184,
   "metadata": {},
   "outputs": [
    {
     "data": {
      "text/html": [
       "<div>\n",
       "<style scoped>\n",
       "    .dataframe tbody tr th:only-of-type {\n",
       "        vertical-align: middle;\n",
       "    }\n",
       "\n",
       "    .dataframe tbody tr th {\n",
       "        vertical-align: top;\n",
       "    }\n",
       "\n",
       "    .dataframe thead th {\n",
       "        text-align: right;\n",
       "    }\n",
       "</style>\n",
       "<table border=\"1\" class=\"dataframe\">\n",
       "  <thead>\n",
       "    <tr style=\"text-align: right;\">\n",
       "      <th></th>\n",
       "      <th>S2</th>\n",
       "    </tr>\n",
       "  </thead>\n",
       "  <tbody>\n",
       "    <tr>\n",
       "      <th>MAZOWIECKIE</th>\n",
       "      <td>1.000000</td>\n",
       "    </tr>\n",
       "    <tr>\n",
       "      <th>SLASKIE</th>\n",
       "      <td>0.886398</td>\n",
       "    </tr>\n",
       "    <tr>\n",
       "      <th>PODLASKIE</th>\n",
       "      <td>0.821959</td>\n",
       "    </tr>\n",
       "    <tr>\n",
       "      <th>LUBELSKIE</th>\n",
       "      <td>0.778469</td>\n",
       "    </tr>\n",
       "    <tr>\n",
       "      <th>LODZKIE</th>\n",
       "      <td>0.777691</td>\n",
       "    </tr>\n",
       "    <tr>\n",
       "      <th>DOLNOSLASKIE</th>\n",
       "      <td>0.751242</td>\n",
       "    </tr>\n",
       "    <tr>\n",
       "      <th>MALOPOLSKIE</th>\n",
       "      <td>0.736129</td>\n",
       "    </tr>\n",
       "    <tr>\n",
       "      <th>POMORSKIE</th>\n",
       "      <td>0.587049</td>\n",
       "    </tr>\n",
       "    <tr>\n",
       "      <th>WIELKOPOLSKIE</th>\n",
       "      <td>0.547890</td>\n",
       "    </tr>\n",
       "    <tr>\n",
       "      <th>PODKARPACKIE</th>\n",
       "      <td>0.401121</td>\n",
       "    </tr>\n",
       "    <tr>\n",
       "      <th>ZACHODNIOPOMORSKIE</th>\n",
       "      <td>0.352209</td>\n",
       "    </tr>\n",
       "    <tr>\n",
       "      <th>KUJAWSKO-POMORSKIE</th>\n",
       "      <td>0.216497</td>\n",
       "    </tr>\n",
       "    <tr>\n",
       "      <th>SWIETOKRZYSKIE</th>\n",
       "      <td>0.189766</td>\n",
       "    </tr>\n",
       "    <tr>\n",
       "      <th>WARMINSKO-MAZURSKIE</th>\n",
       "      <td>0.170434</td>\n",
       "    </tr>\n",
       "    <tr>\n",
       "      <th>OPOLSKIE</th>\n",
       "      <td>0.089737</td>\n",
       "    </tr>\n",
       "    <tr>\n",
       "      <th>LUBUSKIE</th>\n",
       "      <td>0.000000</td>\n",
       "    </tr>\n",
       "  </tbody>\n",
       "</table>\n",
       "</div>"
      ],
      "text/plain": [
       "                           S2\n",
       "MAZOWIECKIE          1.000000\n",
       "SLASKIE              0.886398\n",
       "PODLASKIE            0.821959\n",
       "LUBELSKIE            0.778469\n",
       "LODZKIE              0.777691\n",
       "DOLNOSLASKIE         0.751242\n",
       "MALOPOLSKIE          0.736129\n",
       "POMORSKIE            0.587049\n",
       "WIELKOPOLSKIE        0.547890\n",
       "PODKARPACKIE         0.401121\n",
       "ZACHODNIOPOMORSKIE   0.352209\n",
       "KUJAWSKO-POMORSKIE   0.216497\n",
       "SWIETOKRZYSKIE       0.189766\n",
       "WARMINSKO-MAZURSKIE  0.170434\n",
       "OPOLSKIE             0.089737\n",
       "LUBUSKIE             0.000000"
      ]
     },
     "execution_count": 184,
     "metadata": {},
     "output_type": "execute_result"
    }
   ],
   "source": [
    "#wyliczenie i dołączenie standaryzowanej miary syntetycznej do pierwotnej tabeli\n",
    "miara_synt = pd.DataFrame(S1)\n",
    "miara_synt.rename(columns={0:\"S1\"},inplace=True)\n",
    "min_s1 = min(miara_synt[\"S1\"])\n",
    "s1_min_diff = miara_synt[\"S1\"] - min_s1\n",
    "miara_synt_std = s1_min_diff/np.max(s1_min_diff)\n",
    "\n",
    "standaryzowane_sumy = data_std.copy()\n",
    "standaryzowane_sumy.insert(len(standaryzowane_sumy.columns),\"S1\",miara_synt[\"S1\"].values)\n",
    "standaryzowane_sumy.insert(len(standaryzowane_sumy.columns),\"S2\",miara_synt_std.values)\n",
    "\n",
    "standaryzowane_sumy.sort_values(\"S2\",inplace=True,ascending=False)\n",
    "standaryzowane_sumy.drop(columns=standaryzowane_sumy.columns[range(9)])\n"
   ]
  },
  {
   "cell_type": "code",
   "execution_count": null,
   "metadata": {},
   "outputs": [],
   "source": []
  }
 ],
 "metadata": {
  "kernelspec": {
   "display_name": "base",
   "language": "python",
   "name": "python3"
  },
  "language_info": {
   "codemirror_mode": {
    "name": "ipython",
    "version": 3
   },
   "file_extension": ".py",
   "mimetype": "text/x-python",
   "name": "python",
   "nbconvert_exporter": "python",
   "pygments_lexer": "ipython3",
   "version": "3.11.5"
  }
 },
 "nbformat": 4,
 "nbformat_minor": 2
}
